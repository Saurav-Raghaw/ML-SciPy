{
  "nbformat": 4,
  "nbformat_minor": 0,
  "metadata": {
    "colab": {
      "name": "AWS-ML-Training.ipynb",
      "provenance": [],
      "authorship_tag": "ABX9TyNCQnvGgLS3Eyu1O7Xks6NB",
      "include_colab_link": true
    },
    "kernelspec": {
      "name": "python3",
      "display_name": "Python 3"
    },
    "language_info": {
      "name": "python"
    }
  },
  "cells": [
    {
      "cell_type": "markdown",
      "metadata": {
        "id": "view-in-github",
        "colab_type": "text"
      },
      "source": [
        "<a href=\"https://colab.research.google.com/github/Saurav-Raghaw/ML-SciPy/blob/main/AWS_ML_Training.ipynb\" target=\"_parent\"><img src=\"https://colab.research.google.com/assets/colab-badge.svg\" alt=\"Open In Colab\"/></a>"
      ]
    },
    {
      "cell_type": "markdown",
      "metadata": {
        "id": "KH7sSaFo4zhA"
      },
      "source": [
        "#Amazon: AWS ML : My Notes<Saurav Kumar (IIT Indore)>\n",
        "\n",
        "#Lecture:2\n",
        "\n",
        "#Is a machine learning solution appropriate for my problem?\n",
        "\n"
      ]
    },
    {
      "cell_type": "markdown",
      "metadata": {
        "id": "ryvaxwzG5DJl"
      },
      "source": [
        "#How can I determine that machine learning is the right solution?\n",
        "\n",
        "* Businesses can determine if ML is the right solution if the problem is clear and quantifiable. If this is the case, ML can provide value in a model's predictions when compared to specific business objectives and success criteria."
      ]
    },
    {
      "cell_type": "markdown",
      "metadata": {
        "id": "cn80m7-G67cH"
      },
      "source": [
        "#What are the reasons to use machine learning?\n",
        "\n",
        "* An example of a business problem where the use of ML would be appropriate is generating personalized recommendations. \n",
        "\n",
        "\n",
        "> * Requires complex logic\n",
        "> * Requires scalability\n",
        "> * Requires personalization\n",
        "> * Requires responsiveness\n",
        "\n"
      ]
    },
    {
      "cell_type": "markdown",
      "metadata": {
        "id": "bEnHEx728leT"
      },
      "source": [
        "#What are the reasons to NOT use machine learning?\n",
        "\n",
        "* Business reasons to avoid ML depend on whether traditional methods and rules are viable options, if there are few or no requirements to adapt to new data, if business goals include 100% outcome accuracy, or if models must be explained or translated.\n",
        "\n",
        "\n",
        "\n",
        "> * Can be solved with traditional algorithms\n",
        "> * Does not require adapting to new data\n",
        "> * Requires 100% accuracy\n",
        "> * Requires full interpretability\n",
        "\n"
      ]
    },
    {
      "cell_type": "markdown",
      "metadata": {
        "id": "th5RL_XI-SX4"
      },
      "source": [
        "#What is an example business case for machine learning?\n",
        "\n",
        "* Consider a financial institution that needs to determine which category of products and offerings is most interesting to a customer. The problem might not be effectively solved using simple hand-coded rules since the outcome might depend on many factors and overlapping rules. ML could solve this problem."
      ]
    },
    {
      "cell_type": "markdown",
      "metadata": {
        "id": "Dza9BN8Z_M01"
      },
      "source": [
        "* To identify a good problem to solve using ML, identify your business outcome or goal, and ask these questions:\n",
        "\n",
        "\n",
        "\n",
        "> 1. What is the strategy to achieve this goal?\n",
        "> 2. How could you use machine learning to achieve this goal?\n",
        "> 3. What aspects of the problem make it a good fit to apply ML?"
      ]
    },
    {
      "cell_type": "markdown",
      "metadata": {
        "id": "bjJc-EsXBniJ"
      },
      "source": [
        "#Is my data ready for machine learning?\n",
        "* What types of data are available today?\n",
        "\n",
        "ML uses training data optimized for learning and generalization. Models can ingest several types of data.\n",
        "\n",
        "> * Documents \n",
        "> * Audio\n",
        "> * Images\n",
        "> * Video\n",
        "> * Weather reports\n",
        "> * Website interactions\n",
        "> * Social media connections\n",
        "> * Industrial monitoring\n",
        "\n",
        "* A first step is to identify a problem that is rich in data, but (one that) you haven't been able to solve through traditional methods."
      ]
    },
    {
      "cell_type": "markdown",
      "metadata": {
        "id": "jSG-FVfsEu60"
      },
      "source": [
        "* Data readiness depends on the quality, quantity, diversity, and complexity of the data collected. After discovering and collecting all relevant data, the data should be cleansed, validated, transformed, and stored.\n"
      ]
    },
    {
      "cell_type": "markdown",
      "metadata": {
        "id": "7VBS9hXNInmH"
      },
      "source": [
        "#Is my data high quality?\n",
        "\n",
        "Data used in an ML project should be relevant to produce valuable results. \n",
        "\n",
        "\n",
        "> * Relevant: Is my data relevant for the type of machine learning project I intend to build?\n",
        "\n",
        "> * Fresh:  How recent is the data being used for my machine learning project?\n",
        "\n",
        "> * representative: Is the data representative of the my machine learning project?\n",
        "\n",
        "> * Unbiased: Does the data tend to favor one area of a segment when building my machine learning model?\n",
        "\n",
        "* For any data that might be relevant, do not overthink! Keep it on the list!\n",
        "\n",
        "\n",
        "\n"
      ]
    },
    {
      "cell_type": "markdown",
      "metadata": {
        "id": "2fdgyuXrKUwV"
      },
      "source": [
        "#To identify a good problem to solve using ML, assess your data readiness, and ask these questions.\n",
        "\n",
        "> * Is it easily accessible?\n",
        "\n",
        "> * Does it respect privacy?\n",
        "\n",
        "> * Is it relevant?\n",
        "\n"
      ]
    },
    {
      "cell_type": "markdown",
      "metadata": {
        "id": "Khzf9txaKrBa"
      },
      "source": [
        "#How will machine learning impact a project timeline?\n"
      ]
    },
    {
      "cell_type": "markdown",
      "metadata": {
        "id": "sWkpKa3bdPNu"
      },
      "source": [
        "#What should be my expectation in terms of time?\n",
        "\n",
        "* Machine learning can take significant time from the start of a project through production deployment. Expectations for the amount of time needed to deploy production models can take weeks or even months."
      ]
    },
    {
      "cell_type": "markdown",
      "metadata": {
        "id": "Z40px2-ddfHA"
      },
      "source": [
        "#What does a machine learning lifecycle look like?\n",
        "\n",
        "The machine learning lifecycle consists of nine stages. \n",
        "\n",
        "\n",
        "> 1. Problem definition\n",
        "\n",
        "> 2. Data exploration\n",
        "\n",
        "> 3. Data preparation\n",
        "\n",
        "> 4. Model exploation\n",
        "\n",
        "> 5. Model Training\n",
        "\n",
        "> 6. Model Testing\n",
        "\n",
        "> 7. Evaluation\n",
        "\n",
        "> 8. Production deployment\n",
        "\n",
        "> 9. Model Update\n",
        "\n",
        "\n",
        "* The ML lifecycle typically takes weeks or even months.\n",
        "\n",
        "* A common misperception is that most of the time is spent in the Modeling, Training, Testing stage.\n",
        "\n",
        "\n",
        "\n"
      ]
    },
    {
      "cell_type": "markdown",
      "metadata": {
        "id": "tgfn-C_cgc0R"
      },
      "source": [
        "#What early questions should I ask in deployment?\n",
        "#How do I take my machine learning solution into production?\n",
        "\n",
        "While production deployment of an ML model is one of the last stages of the ML pipeline, ML production code differs in many ways from research code. The purpose of research code is to promote exploration and validate models using iterative processes, which might lack formal quality, stability, or scaling requirements. However, production code must meet objective and fixed requirements, facilitate collaboration through version control, maintain a code deployment history, and meet code reliability standards."
      ]
    }
  ]
}