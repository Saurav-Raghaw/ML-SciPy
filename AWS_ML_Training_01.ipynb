{
  "nbformat": 4,
  "nbformat_minor": 0,
  "metadata": {
    "colab": {
      "name": "AWS-ML-Training-01.ipynb",
      "provenance": [],
      "authorship_tag": "ABX9TyOlvX8yhFv9N2Kjk4ol9/DR"
    },
    "kernelspec": {
      "name": "python3",
      "display_name": "Python 3"
    },
    "language_info": {
      "name": "python"
    }
  },
  "cells": [
    {
      "cell_type": "markdown",
      "metadata": {
        "id": "4Q_rRet4x6O3"
      },
      "source": [
        "#Amazon: AWS ML : My Notes<Saurav Kumar (IIT Indore)>\n",
        "\n",
        "#Lecture:1\n",
        "\n",
        "#Introduction to Machine Learning: Art of the Possible\n",
        "\n"
      ]
    },
    {
      "cell_type": "markdown",
      "metadata": {
        "id": "l57NcxRZyFbf"
      },
      "source": [
        "#How can machine learning help?\n"
      ]
    },
    {
      "cell_type": "markdown",
      "metadata": {
        "id": "Gmj39pEDyHjQ"
      },
      "source": [
        "*  What is machine learning?\n",
        "\n",
        "\n",
        "```\n",
        "Machine learning (ML) is the process of training computers, using math and statistical processes, to find and recognize patterns in data.\n",
        "\n",
        "After patterns are found, ML generates and updates \n",
        "training models to make increasingly accurate predictions and inferences \n",
        "about future outcomes based on historical and new data.\n",
        "\n",
        "For example, ML could help determine the likelihood of a customer purchasing a particular \n",
        "product based on previous purchases by the user or the product's past sales history.\n",
        "```\n",
        "\n"
      ]
    },
    {
      "cell_type": "markdown",
      "metadata": {
        "id": "olLIn6k7zGMK"
      },
      "source": [
        "* Building ML applications is an iterative process that involves a sequence of steps. \n",
        "\n",
        "* **To build an ML application, follow these general steps:**\n",
        "\n",
        "\n",
        "> 1. **Formulate a Problem** : Frame the core ML problems in terms of what is observed and what answer you want to model to predict.\n",
        "\n",
        "\n",
        "\n",
        "> 2. **Prepare your data**: Collect, clean, visualize and analyze the data to run sanity checks to validate the quality of data and to understand the data.\n",
        "\n",
        "> 3.  **Train the model** : Construct more predictive input representation or features from the raw data. Feed the resulting features to the learning algorithm to build the model.\n",
        "\n",
        ">  4.  **Test the model** : Evaluate the quality of your model on test data.\n",
        "\n",
        ">  5.  **Deploy your model** : Use te model to predict targets for new data inputs.\n",
        "\n",
        "\n",
        "\n",
        "\n",
        "\n"
      ]
    },
    {
      "cell_type": "markdown",
      "metadata": {
        "id": "SXFFIPRx4alc"
      },
      "source": [
        "#What are the key terms in machine learning?"
      ]
    },
    {
      "cell_type": "markdown",
      "metadata": {
        "id": "NxeYqoPw5JHT"
      },
      "source": [
        "1.  **Model**: The output of an ML algorithm trained on a data set; used for data prediction.\n",
        "\n",
        "2.  **Training**: The act of creating a model from past data.\n",
        "\n",
        "3.  **Testing**: Measuring the performance of a model on test data.\n",
        "\n",
        "4.  **Deployment**: Integrating a model into a production pipeline"
      ]
    },
    {
      "cell_type": "markdown",
      "metadata": {
        "id": "lE69BoaR7oax"
      },
      "source": [
        "#What is the history of Amazon machine learning?\n",
        "\n",
        "Amazon has over 20 years of experience with machine learning. In addition, Amazon uses ML to sell more than 4,000 products per minute on Amazon.com, and also in completing the first autonomous Prime Air Delivery in 2016. \n",
        "\n",
        "In July 2020, AWS was recognized as a leader in the Gartner Magic Quadrant for cloud AI developer services. \n",
        "\n",
        "*  2001: Amazon launches personalized recommendations.\n",
        "*  2005: Amazon prime launches.\n",
        "*  2012: Amazon start using robots in fullfillment centers.\n",
        "*  2014: Amazon Alexa launches.\n",
        "*  2014: Amazon prime now.\n",
        "*  2016: Amazon prime air makes first delivery.\n",
        "*  2018: Amazon Go launches.\n",
        "*  2020: robotaxi by Zoox Amazon subsidiary.\n"
      ]
    },
    {
      "cell_type": "markdown",
      "metadata": {
        "id": "oo2_fHug8Sxh"
      },
      "source": [
        "#What is the Amazon approach to machine learning?\n",
        "\n",
        "* **The Amazon flywheel**: The Amazon flywheel was an idea that Amazon founder Jeff Bezos sketched on the back of a napkin. It illustrates how investing in specific key business operations can reinforce other processes and create a positive feedback loop. \n",
        "\n",
        "*  **The machine learning flywheel**: The Amazon ML flywheel uses data collected from parts of a business operation, uses a model to predict future outcomes, and provides ways to continuously improve efficiency and develop new operational capabilities and business practices. "
      ]
    },
    {
      "cell_type": "markdown",
      "metadata": {
        "id": "Ie6jF5xoGkcL"
      },
      "source": [
        "#How is Amazon using machine learning in products?\n",
        "\n",
        "1. Amazon uses browsing and purchasing data to provide recommendations and promotions.\n",
        "\n",
        "2.  Amazon uses ML to facilitate billions of voice interactions per week with Alexa devices using natural language processing (NLP).\n",
        "\n",
        "3. Amazon uses ML to ship 1.6M packages per day."
      ]
    },
    {
      "cell_type": "markdown",
      "metadata": {
        "id": "XEheZKrSHUcS"
      },
      "source": [
        "#How is machine learning helping AWS customers?\n",
        "\n",
        "* AWS machine learning services have provided solutions for a variety of customer use cases. \n",
        "\n",
        "*  AWS ML customers have extracted and analyzed client document data to help speed up critical business decisions and the identification of fraudulent online activities. \n",
        "\n",
        "*  AWS ML customers forecast their key demand metrics to meet customer demand and reduce waste. \n",
        "\n",
        "*  These customers have also generated personalized recommendations to maximize customer engagement."
      ]
    },
    {
      "cell_type": "markdown",
      "metadata": {
        "id": "DTUmWUsaIs8O"
      },
      "source": [
        "AWS offers a broad, deep set of machine learning services and supporting cloud infrastructure, putting ML in the hands of every developer, data scientist, and expert practitioner.\n",
        "\n",
        "1. **Amazon Forecast**: Amazon Forecast is a fully managed service that uses machine learning to deliver highly accurate forecasts. Based on the same technology used at Amazon.com, Forecast uses machine learning to combine time series data with additional variables to build forecasts. \n",
        "\n",
        "2.  **Amazon Fraud Detector**: Amazon Fraud Detector uses machine learning and 20 years of fraud detection expertise from AWS and Amazon.com to automatically identify potentially fraudulent activity in milliseconds. \n",
        "\n",
        "3.  **Amazon Personalize**: Amazon Personalize uses ML, building a model requires the formatting of input data (uploaded or real-time event data). You select a training algorithm to use on the data, solution model training, and solution deployment. Each training recipe performs feature extraction of your data. It also applies a choice of learning algorithms, along with default learning values used to manage and optimize the machine learning process.\n",
        "\n",
        "4. **Amazon Polly**: The Amazon Polly text-to-speech (TTS) service uses advanced deep learning technologies to synthesize natural-sounding human speech. \n",
        "\n",
        "5. **Amazon Transcribe**: Amazon Transcribe is an AWS service that helps customers convert speech to text. Examples include the transcription of voice-based customer service calls, generation of subtitles on audio or video content, and conduct (text-based) content analysis on audio or video content.\n",
        "\n",
        "6. **Amazon SageMaker**: Amazon SageMaker is a fully managed service that provides every developer and data scientist with the ability to build, train, and deploy models quickly.\n",
        "\n",
        "\n"
      ]
    },
    {
      "cell_type": "markdown",
      "metadata": {
        "id": "lqMgLCwPVHBA"
      },
      "source": [
        "#What are some examples of machine learning being used today?\n",
        "\n",
        "*  Machine learning can be found in about 77 percent of the devices we use (“What Consumers Really Think About AI: A Global Study,\" Pegasystems, 2017).\n",
        "\n",
        "*   Ride-sharing apps like Uber and Lyft use data to lower wait times, predict demand, and optimize price setting. \n",
        "\n",
        "*  Online shopping sites use ML to customize search results and improve product recommendations.\n",
        "\n",
        "*  Financial institutions use AI to recognize content on mobile check deposits. Credit- or debit-card transaction businesses use ML to scan for fraud. "
      ]
    },
    {
      "cell_type": "markdown",
      "metadata": {
        "id": "9aWoNkT3YbtW"
      },
      "source": [
        "* Amazon Transcribe Medical helps provide more personalized care uses by CERNER.\n",
        "\n",
        "* Georgia-Pacific uses Amazon SageMaker to provide real-time feedback to machine operators."
      ]
    },
    {
      "cell_type": "markdown",
      "metadata": {
        "id": "YNRCHb7Vaopv"
      },
      "source": [
        "#How does the NFL use AWS machine learning?\n",
        "\n",
        "*  AWS helps the NFL to leverage the power of its data through sophisticated analytics and ML. The NFL uses training data from traditional box-score statistics. "
      ]
    },
    {
      "cell_type": "markdown",
      "metadata": {
        "id": "3g-QisYIdZ5T"
      },
      "source": [
        "*   ML can also become a catalyst for quantum computing by increasing data processing speeds or rapidly accelerating model training."
      ]
    },
    {
      "cell_type": "markdown",
      "metadata": {
        "id": "VZGVVy-TdeiH"
      },
      "source": [
        "#How does machine learning work?\n",
        "\n",
        "What is artificial intelligence?\n",
        "\n",
        "* Artificial intelligence (AI) is any system that is able to ingest human-level knowledge to automate and accelerate tasks performable by humans through natural intelligence. \n",
        "\n",
        "*  AI has two categories: **narrow**, where an AI imitates human intelligence in a single context, and **general**, where an AI learns and behaves with intelligence across multiple contexts."
      ]
    },
    {
      "cell_type": "markdown",
      "metadata": {
        "id": "68nefxiikqML"
      },
      "source": [
        "#Examples of AI :\n",
        "\n",
        "* Intelligent search in Amazon Kendra.\n",
        "* Document analysis in Amazon Comprehend.\n",
        "* Data and text extraction in Amazon Textract.\n",
        "* Business metrics analysis in Amazon Lookout for Metrics and Amazon Forecast."
      ]
    },
    {
      "cell_type": "markdown",
      "metadata": {
        "id": "cRg-ou2PlfjG"
      },
      "source": [
        "#What is the difference between ML and AI?\n",
        "\n",
        "* Artificial intelligence ingests data, such as human-level knowledge, and imitates natural intelligence.\n",
        "\n",
        "* Machine learning is a subset of AI, where data and algorithms continuously improve the training model to help achieve higher-quality output predictions. \n",
        "\n",
        "* Deep learning is a subset of machine learning. It is an approach to realizing ML that relies on a layered architecture, mimicking the human brain to identify data patterns and train the model.\n",
        "\n",
        "* Deep learning is a subset of machine learning. ML is a technique for realizing AI.\n"
      ]
    },
    {
      "cell_type": "markdown",
      "metadata": {
        "id": "LvyLtfwdmDJU"
      },
      "source": [
        "#What are the requirements to implement AI?\n",
        "\n",
        "* The core components of AI are domain knowledge to structure and frame the problem correctly, high-quality input data to train the model, and methods to detect patterns and make predictions."
      ]
    },
    {
      "cell_type": "markdown",
      "metadata": {
        "id": "2ULh874W7D6m"
      },
      "source": [
        "#What is the difference between machine learning and classical programming?\n",
        "\n",
        "* Machine learning involves teaching a computer to recognize patterns by example, rather than programming it with specific rules. \n",
        "\n",
        "*  In other words, ML is about creating algorithms (or a set of rules) that learn from complex functions (patterns) from data and make predictions on it (a form of “narrow AI”). \n",
        "\n",
        "*  ML learns from data and can be reused for unseen, future, or new data without rewriting code. Put another way, with ML, you start with a problem, identify data associated with that problem, use an algorithm to then model that problem, and generate output.\n",
        "\n"
      ]
    },
    {
      "cell_type": "markdown",
      "metadata": {
        "id": "PUa74Tq8-VLO"
      },
      "source": [
        "#How does machine learning work?\n",
        "\n",
        "* How does machine learning work?\n",
        "\n",
        "\n",
        "\n",
        "> * **Supervised learning**: Supervised learning is a method where a model learns from a data set containing input values and paired output values that you would like to predict. Classification and Regression.\n",
        "\n",
        "> * **Unsupevised Learning** : Unsupervised learning is a method in which the training model learns from data without any guidance. The objective is pattern and structure recognition. Examples: Clustering - Customer segmentation.  Association - Discovering regularities among products.\n",
        "\n",
        "> *  **Reinforcememnt Learning** : Reinforcement learning is a method in which the training model learns from its environment by being rewarded for correct moves and punished for incorrect moves. Example: Autonomous driving\n",
        "\n",
        "\n",
        "\n",
        "\n"
      ]
    },
    {
      "cell_type": "markdown",
      "metadata": {
        "id": "vFoF8fpGDnjd"
      },
      "source": [
        "#What kind of solutions can ML provide?\n",
        "\n",
        "* ML can provide predictive solutions (regression and classification), prioritization (rankings and scores), and behavior patterns (recommendations and clustering)."
      ]
    },
    {
      "cell_type": "markdown",
      "metadata": {
        "id": "tjYI7tPDEn9t"
      },
      "source": [
        "#Common uses for ML models.\n",
        "\n",
        "* **Regression**\n",
        "\n",
        "Example - Predicting a numerical value.\n",
        "Predicting a housing sale price\n",
        "\n",
        "* **Classification**\n",
        "\n",
        "Example - Predicting a label.\n",
        "Duolingo: Classifying if a learner will get a word right\n",
        "\n",
        "*  **Ranking**\n",
        "\n",
        "Example - Ordering items to find the most relevant.\n",
        "Domino’s Pizza: Ranking most likely next pizza order\n",
        "\n",
        "*  **Recommendation**\n",
        "\n",
        "Example - Finding relevant items based on past behavior.\n",
        "Hyatt: Recommending hotels for large events\n",
        "\n",
        "*  **Clustering**\n",
        "\n",
        "Example - Finding patterns in examples.\n",
        "NASA: Detecting anomalies in sensor data collection, such as super storm forecasting.\n",
        "\n",
        "*  **Anomaly detection**\n",
        "\n",
        "Example - Finding outliers from examples.\n",
        "Fraud.net: Identifying novel fraudulent behavior"
      ]
    },
    {
      "cell_type": "markdown",
      "metadata": {
        "id": "y4pIIR-ju5C9"
      },
      "source": [
        "#What are some potential problems with machine learning?\n",
        "\n"
      ]
    },
    {
      "cell_type": "markdown",
      "metadata": {
        "id": "o7kYf-aJu9qy"
      },
      "source": [
        "* Due to the ingestion of poor quality data. For example, the data may not include enough samples to represent a sufficiently broad scope of relevant variables."
      ]
    },
    {
      "cell_type": "markdown",
      "metadata": {
        "id": "wNjnykvNvUi9"
      },
      "source": [
        "#What are simple and complex models?\n",
        "\n",
        "* The output of a simple ML model may be explainable and produce faster results, but the results may be inaccurate. The output of a complex ML model may be accurate, but the results may be difficult to communicate.\n",
        "\n",
        "* Simple models may prioritize output explainability over accuracy. Complex models may prioritize accuracy over output explainability.\n",
        "\n"
      ]
    },
    {
      "cell_type": "markdown",
      "metadata": {
        "id": "ln7dR_nlwA_7"
      },
      "source": [
        "#What is unexplainabilty?\n",
        "\n",
        "* Unexplainability represents how much of the reasoning behind an ML model's decision cannot be effectively described in human terms. "
      ]
    },
    {
      "cell_type": "markdown",
      "metadata": {
        "id": "bCT5WksLxhOe"
      },
      "source": [
        "#What is uncertainty?\n",
        "\n",
        "* Uncertainty describes an imperfect outcome. In the context of machine learning, uncertainty arises from using models. These models attempt to fit a training data, which may have imperfect data. The \"best\" data may also be unknowable."
      ]
    }
  ]
}