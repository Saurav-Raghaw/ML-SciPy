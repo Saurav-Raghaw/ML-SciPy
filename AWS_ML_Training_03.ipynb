{
  "nbformat": 4,
  "nbformat_minor": 0,
  "metadata": {
    "colab": {
      "name": "AWS-ML-Training-03.ipynb",
      "provenance": [],
      "authorship_tag": "ABX9TyO3JsucED1nNwC1IIqddfNU"
    },
    "kernelspec": {
      "name": "python3",
      "display_name": "Python 3"
    },
    "language_info": {
      "name": "python"
    }
  },
  "cells": [
    {
      "cell_type": "markdown",
      "metadata": {
        "id": "qG9vUb16pim1"
      },
      "source": [
        "#How do I move my organization into machine learning?\n",
        "\n",
        "* Key strategies an organization needs to use machine learning:\n",
        "\n",
        "\n",
        "> * A robust ML strategy\n",
        "\n",
        "> * A data strategy\n",
        "\n",
        "> * A culture of learning and collaboration"
      ]
    },
    {
      "cell_type": "markdown",
      "metadata": {
        "id": "kx8R4c_3qEOu"
      },
      "source": [
        "#How can AWS help implement my ML strategy?\n",
        "\n",
        "* Amazon Web Services (AWS) offers services which can accelerate your organization's ML adoption process. By taking advantage of ML in the AWS Cloud, there's no need for on-premise infrastructure development or training to start your first project. \n",
        "\n",
        "* By relying on services provided by AWS, you can expect to get your team experimenting with ML at a rapid pace."
      ]
    },
    {
      "cell_type": "markdown",
      "metadata": {
        "id": "-XEjeYxAsKHh"
      },
      "source": [
        "#What other strategies can I adopt to ensure organizational success?\n",
        "\n",
        "* Strategy 1: Find the right problem\n",
        "\n",
        "\n",
        "> * Problems that get early executive buy-in\n",
        "> * Problems that are data rich\n",
        "> * Problems that can't be solved by traditional means\n",
        "> * Problems that involve large amounts of labor\n",
        "\n",
        "\n",
        "* Strategy 2: Fail forward\n",
        "\n",
        "\n",
        "\n",
        ">  * Fail forward means purposefully and deliberately using failure as a path to success. Failing forward with ML means using failure as an iterative opportunity to become fault-tolerant and find a successful direction in subsequent attempts. Many successful outcomes come after many rounds of iteration, and some aren’t successful at all.\n",
        "\n",
        "\n",
        "* Strategy 3: Scale beyond proofs of concept (POC)\n",
        "\n",
        "> * POCs test a product or service design, idea, or assumption and determine potential feasibility. ML POCs in development can be used to solve ML scaling challenges across the business before making large production investments.\n",
        "\n"
      ]
    },
    {
      "cell_type": "markdown",
      "metadata": {
        "id": "cMhSxfGwwazC"
      },
      "source": [
        "#Which cultural shift approach works for my organization?\n",
        "\n",
        "* ML requires changes in decision-making, performance management, and organizational systems to facilitate ongoing data science collaboration with business units."
      ]
    },
    {
      "cell_type": "markdown",
      "metadata": {
        "id": "TdEMV7owxgzg"
      },
      "source": [
        "#How do I evaluate my data strategy?\n",
        "* An effective data strategy begins with evaluating the organization's current data and determining the types of solutions needed to improve data quality."
      ]
    },
    {
      "cell_type": "markdown",
      "metadata": {
        "id": "eiJpDCEb3rXB"
      },
      "source": [
        "#What are the benefits of moving to a data lake?\n",
        "\n",
        "> * Catalogue, search, and find the relevant data in the central repository.\n",
        "\n",
        "\n",
        "> * Store any type of data, at any scale, and at low cost.\n",
        "\n",
        "\n",
        "> * Secure the data and prevent unauthorized access.\n",
        "\n",
        "\n",
        "> * Quickly perform new types of data analysis.\n"
      ]
    },
    {
      "cell_type": "markdown",
      "metadata": {
        "id": "DDNrP0Dx39MI"
      },
      "source": [
        "* Data lakes enable a broad set of analytic engines for analytics, real-time and predictive analytics, artificial intelligence (AI), and machine learning."
      ]
    },
    {
      "cell_type": "markdown",
      "metadata": {
        "id": "xJOARnrf4i8i"
      },
      "source": [
        "#How do I create a culture of learning and collaboration?\n",
        "\n",
        "#What is a data scientist?\n",
        "\n",
        "* Data scientists work in both the business and technical worlds with deep data analysis to achieve specific outcomes. In the field of machine learning (ML), data scientists design and build models from data, create and work on algorithms, and train models to predict and achieve business goals.\n",
        "\n",
        "* What skills should a data scientist have?\n",
        "\n",
        "\n",
        "\n",
        "> * Machine Learning\n",
        "> * Computer Science\n",
        "> * Doamin Knowledge\n",
        "> * Big Data\n",
        "> * Math/Statics\n",
        "> * Technology skills\n",
        "\n"
      ]
    },
    {
      "cell_type": "markdown",
      "metadata": {
        "id": "CadHVKrQ9sja"
      },
      "source": [
        "#What does a pilot machine learning team look like?\n",
        "\n",
        "* A pilot ML team can consist of a data scientist, ML engineer, and a technical program manager, each with different responsibilities, but all with relevant ML experience and skills."
      ]
    },
    {
      "cell_type": "markdown",
      "metadata": {
        "id": "0ze_5TR--iaB"
      },
      "source": [
        "#How can AWS help my team get started?\n",
        "\n",
        "* AWS can help ML teams get started with Amazon SageMaker. Amazon SageMaker is a fully managed service that can help developers and data scientists build, train, and deploy ML models quickly. Amazon SageMaker removes the heavy lifting from each step of the ML process to make it easier to develop high quality models."
      ]
    },
    {
      "cell_type": "markdown",
      "metadata": {
        "id": "Tlfwp4KC_j9J"
      },
      "source": [
        "#How can I develop my team for ML analytics?\n",
        "\n",
        "\n",
        "> Encourage your technical team to use ML, not just scientists.\n",
        "> Encourage non-technical leaders to become ML savvy.\n",
        "> Training, training, training.\n",
        "\n",
        "> Hire data scientists, if you can.\n",
        "> Collaborate with external teams such as Amazon Machine Learning (ML) Solutions Lab to help you build analytics/ML capabilities.\n",
        "\n",
        "\n",
        "\n"
      ]
    },
    {
      "cell_type": "markdown",
      "metadata": {
        "id": "I_Gm63p0AL5G"
      },
      "source": [
        "#How can I develop my team for technical expertise?\n",
        "\n",
        "* Creating a culture of learning and collaboration is a journey. You can start that journey with excitement activities to motivate the larger organization, training to up-skill your internal teams, and accelerator programs to jump start your journey toward ML competency. "
      ]
    },
    {
      "cell_type": "markdown",
      "metadata": {
        "id": "jkZzOmgORjaz"
      },
      "source": [
        "#How do I start my ML journey?\n",
        "\n",
        "* Research, software engineering, and HR teams must work together to determine how ML will be used in your organization. They will also identify sources of ML adoption challenges, and develop clear strategies to overcome barriers."
      ]
    },
    {
      "cell_type": "markdown",
      "metadata": {
        "id": "eWVZk6X7R-An"
      },
      "source": [
        "#What are some common mistakes?\n",
        "\n",
        "* Common ML journey mistakes.\n",
        "\n",
        "\n",
        "> * Viewing AI as a plug-and-play technology with immediate returns.\n",
        "\n",
        "> * Thinking too narrowly about AI applications.\n",
        "\n"
      ]
    },
    {
      "cell_type": "markdown",
      "metadata": {
        "id": "InSyrkEqwXzE"
      },
      "source": [
        "#There are several important thoughts that can help an organization navigate an AI/ML journey .\n",
        "\n",
        "\n",
        "\n",
        "> * Gain executive sponsorship for proof of concept.\n",
        "> * Use proof of concepts to drive ML engagement within the organization.\n",
        "> * Allow teams to experiment and fail.\n",
        "> * Examine your data strategy\n",
        "> * Improve cross-collaboration between different teams.\n",
        "> * \n",
        "\n",
        "\n",
        "\n"
      ]
    }
  ]
}