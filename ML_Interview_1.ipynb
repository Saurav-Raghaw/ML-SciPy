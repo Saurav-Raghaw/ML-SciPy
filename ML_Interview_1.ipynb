{
  "nbformat": 4,
  "nbformat_minor": 0,
  "metadata": {
    "colab": {
      "name": "ML-Interview-1.ipynb",
      "provenance": [],
      "authorship_tag": "ABX9TyPhVk6IU7WQu1/V/GZWlRuF"
    },
    "kernelspec": {
      "name": "python3",
      "display_name": "Python 3"
    },
    "language_info": {
      "name": "python"
    }
  },
  "cells": [
    {
      "cell_type": "markdown",
      "metadata": {
        "id": "8N8zCJuQ6-g0"
      },
      "source": [
        "#What is ML?\n",
        "\n",
        "\n",
        "\n",
        "> * Machine Learning is the field of study that gives computers the capability to learn without being explicitly programmed.\n",
        "\n",
        "> * Machine Learning is a program that analyses data and learns to predict the outcome.\n",
        "\n",
        "> * Machine Learning is making the computer learn from studying data and statistics.\n",
        "\n",
        "* Machine Learning was coined by Arthur Samuel in 1959.\n",
        "* In 1997, Tom Mitchell gave a “well-posed” mathematical and relational definition that “A computer program is said to learn from experience E with respect to some task T and some performance measure P, if its performance on T, as measured by P, improves with experience E. \n",
        "\n"
      ]
    },
    {
      "cell_type": "markdown",
      "metadata": {
        "id": "bKA6MzRTVoJf"
      },
      "source": [
        "#Real world example of ML:\n",
        "Suppose that you decide to check out that offer for a vacation. You browse through the travel agency website and search for a hotel. When you look at a specific hotel, just below the hotel description there is a section titled “You might also like these hotels”. This is a common use case of Machine Learning called “Recommendation Engine”."
      ]
    },
    {
      "cell_type": "markdown",
      "metadata": {
        "id": "eIDbisx88W2t"
      },
      "source": [
        "#What are the various Data Types?\n",
        "\n",
        "\n",
        "> 1. Numerical\n",
        "\n",
        "> 2. Categorical: Values that cannot be measured up against each other. Example: a color value, or any yes/no values.\n",
        "\n",
        "> 3. Ordinal : Can be measured up against each other. Example: school grades where A is better than B and so on.\n",
        "\n"
      ]
    },
    {
      "cell_type": "markdown",
      "metadata": {
        "id": "qKpYGMeE9Atk"
      },
      "source": [
        "# 1. Numerical\n",
        "\n",
        "\n",
        "\n",
        "> 1. Discrete Data\n",
        "> 2. Continuous Data\n",
        "\n"
      ]
    },
    {
      "cell_type": "markdown",
      "metadata": {
        "id": "2G9-BEUi9y3J"
      },
      "source": [
        "#What are the various types of ML problems?\n",
        "\n",
        "1. **Supervised learning**:  The computer is presented with example inputs and their desired outputs, given by a “teacher”, and the goal is to learn a general rule that maps inputs to outputs. \n",
        "\n",
        "Exaples: *Image Classification and Market Prediction/Regression*.\n",
        "> 1. Classification\n",
        "> 2. Regression\n",
        "\n",
        "2. **Unsupervised learning**: No labels are given to the learning algorithm.Discovering hidden patterns in data.\n",
        "\n",
        "Example: *Clustering, High Dimension Visualization and Generative Models.* \n",
        "\n",
        "> 1. Clustering\n",
        "> 2. Density estimation\n",
        "> 3. Dimensionality reduction\n",
        "\n",
        "3. **Semi-supervised learning**: Large amount of input data and only some of the data is labeled, are called semi-supervised learning problems.\n",
        "\n",
        "Example: *A photo archive where only some of the images are labeled, (e.g. dog, cat, person) and the majority are unlabeled.*\n",
        "\n",
        "4. **Reinforcement learning**: A computer program interacts with a dynamic environment in which it must perform a certain goal (such as driving a vehicle or playing a game against an opponent). "
      ]
    },
    {
      "cell_type": "markdown",
      "metadata": {
        "id": "lREGfckMGhF2"
      },
      "source": [
        "* Machine learning algorithms: Linear Regression, Logistic Regression, Decision Tree, SVM(Support vector machines), Naive Bayes, KNN(K nearest neighbors), K-Means, Random Forest, etc."
      ]
    },
    {
      "cell_type": "markdown",
      "metadata": {
        "id": "ueemlUEJG1py"
      },
      "source": [
        "\n",
        "* Model: A model is a specific representation learned from data by applying some machine learning algorithm. A model is also called hypothesis.\n",
        "\n",
        "* Feature: A feature is an individual measurable property of our data.\n"
      ]
    },
    {
      "cell_type": "code",
      "metadata": {
        "id": "XTrSUqJSXCl_"
      },
      "source": [
        "#Mean, Median, and Mode\n",
        "\n",
        "#Mean - The average value\n",
        "#Median - The mid point value\n",
        "#Mode - The most common value"
      ],
      "execution_count": null,
      "outputs": []
    },
    {
      "cell_type": "code",
      "metadata": {
        "colab": {
          "base_uri": "https://localhost:8080/"
        },
        "id": "e9O73vkPXCda",
        "outputId": "60767843-c403-4ded-ff62-35c1377b9803"
      },
      "source": [
        "#NumPy mean() method to find the mean.\n",
        "\n",
        "import numpy as np\n",
        "\n",
        "speed = [99,86,87,88,111,86,103,87,94,78,77,85,86]\n",
        "\n",
        "x = np.mean(speed)\n",
        "\n",
        "print(x)"
      ],
      "execution_count": 1,
      "outputs": [
        {
          "output_type": "stream",
          "text": [
            "89.76923076923077\n"
          ],
          "name": "stdout"
        }
      ]
    },
    {
      "cell_type": "code",
      "metadata": {
        "colab": {
          "base_uri": "https://localhost:8080/"
        },
        "id": "2WaA7RI_X4YA",
        "outputId": "e694b197-f7a0-4201-ac6e-c323e424bde9"
      },
      "source": [
        "#NumPy median() method to find the middle value.\n",
        "\n",
        "speed = [99,86,87,88,111,86,103,87,94,78,77,85,86]\n",
        "\n",
        "x = np.median(speed)\n",
        "\n",
        "print(x)"
      ],
      "execution_count": 3,
      "outputs": [
        {
          "output_type": "stream",
          "text": [
            "87.0\n"
          ],
          "name": "stdout"
        }
      ]
    },
    {
      "cell_type": "code",
      "metadata": {
        "colab": {
          "base_uri": "https://localhost:8080/"
        },
        "id": "eTNCl239YD_u",
        "outputId": "7dcaf1f8-98c2-4ba4-aa5b-eece0cacf8cb"
      },
      "source": [
        "#Two numbers in Middle.\n",
        "\n",
        "speed = [99,86,87,88,86,103,87,94,78,77,85,86]\n",
        "\n",
        "x = np.median(speed)\n",
        "\n",
        "print(x)"
      ],
      "execution_count": 4,
      "outputs": [
        {
          "output_type": "stream",
          "text": [
            "86.5\n"
          ],
          "name": "stdout"
        }
      ]
    },
    {
      "cell_type": "code",
      "metadata": {
        "colab": {
          "base_uri": "https://localhost:8080/"
        },
        "id": "uf_MVp2tYQEu",
        "outputId": "1b5b1aac-4ef9-42d1-e665-447d19bd099d"
      },
      "source": [
        "#SciPy mode() method to find the number that appears the most.\n",
        "from scipy import stats\n",
        "\n",
        "speed = [99,86,87,88,111,86,103,87,94,78,77,85,86]\n",
        "\n",
        "x = stats.mode(speed)\n",
        "\n",
        "print(x)"
      ],
      "execution_count": 5,
      "outputs": [
        {
          "output_type": "stream",
          "text": [
            "ModeResult(mode=array([86]), count=array([3]))\n"
          ],
          "name": "stdout"
        }
      ]
    },
    {
      "cell_type": "code",
      "metadata": {
        "colab": {
          "base_uri": "https://localhost:8080/"
        },
        "id": "9_y3R4rwqcjw",
        "outputId": "0ccbba73-f089-49aa-bb0a-cffa4ad9994e"
      },
      "source": [
        "#Standard Deviation.\n",
        "\n",
        "#A low standard deviation means that most of the numbers are close to the mean (average) value.\n",
        "\n",
        "#A high standard deviation means that the values are spread out over a wider range.\n",
        "\n",
        "#NumPy std() method to find the standard deviation.\n",
        "\n",
        "speed = [86,87,88,86,87,85,86]\n",
        "\n",
        "x = np.std(speed)\n",
        "\n",
        "print(x)"
      ],
      "execution_count": 7,
      "outputs": [
        {
          "output_type": "stream",
          "text": [
            "0.9035079029052513\n"
          ],
          "name": "stdout"
        }
      ]
    },
    {
      "cell_type": "code",
      "metadata": {
        "colab": {
          "base_uri": "https://localhost:8080/"
        },
        "id": "b5f_8Jp6qceM",
        "outputId": "91d41a1f-fa79-4f0d-b440-53fcf3679039"
      },
      "source": [
        "speed = [32,111,138,28,59,77,97]\n",
        "\n",
        "x = np.std(speed)\n",
        "\n",
        "print(x)"
      ],
      "execution_count": 8,
      "outputs": [
        {
          "output_type": "stream",
          "text": [
            "37.84501153334721\n"
          ],
          "name": "stdout"
        }
      ]
    },
    {
      "cell_type": "markdown",
      "metadata": {
        "id": "RfLaMTN3sF0e"
      },
      "source": [
        "#To calculate the variance you have to do as follows.\n",
        "\n",
        "1. Find the mean.\n",
        "2. For each value: find the difference from the mean.\n",
        "3. For each difference: find the square value.\n",
        "4. The variance is the average number of these squared differences.\n",
        "\n",
        "\n",
        "\n",
        "\n",
        "\n"
      ]
    },
    {
      "cell_type": "code",
      "metadata": {
        "colab": {
          "base_uri": "https://localhost:8080/"
        },
        "id": "CrrBvtgmrTvO",
        "outputId": "0435b7be-b080-4bd7-f96d-7c094ba46182"
      },
      "source": [
        "#Variance\n",
        "#Variance is another number that indicates how spread out the values are.\n",
        "\n",
        "#multiply the standard deviation by itself, we'll get the variance!\n",
        "\n",
        "#NumPy var() method to find the variance.\n",
        "\n",
        "speed = [32,111,138,28,59,77,97]\n",
        "\n",
        "x = np.var(speed)\n",
        "\n",
        "print(x)"
      ],
      "execution_count": 9,
      "outputs": [
        {
          "output_type": "stream",
          "text": [
            "1432.2448979591834\n"
          ],
          "name": "stdout"
        }
      ]
    }
  ]
}